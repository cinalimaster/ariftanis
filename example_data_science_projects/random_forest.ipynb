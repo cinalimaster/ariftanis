{
 "cells": [
  {
   "cell_type": "markdown",
   "metadata": {},
   "source": [
    "# Random Forest"
   ]
  },
  {
   "cell_type": "code",
   "execution_count": 22,
   "metadata": {},
   "outputs": [],
   "source": [
    "import math\n",
    "import numpy as np\n",
    "import pandas as pd\n",
    "import matplotlib.pyplot as plt\n",
    "from collections import Counter\n",
    "import pandas as pd\n",
    "from sklearn.utils import resample\n",
    "from sklearn.ensemble import RandomForestClassifier\n",
    "from sklearn.ensemble import RandomForestRegressor\n",
    "from sklearn.tree import DecisionTreeClassifier\n",
    "from sklearn.tree import DecisionTreeRegressor\n",
    "from sklearn.model_selection import train_test_split\n",
    "from sklearn.metrics import classification_report\n",
    "from sklearn.metrics import accuracy_score\n",
    "from sklearn.metrics import mean_absolute_error, mean_squared_error\n",
    "\n",
    "\n",
    "def mean_absolute_percentage_error(y_true, y_pred): \n",
    "    return np.mean(np.abs((y_true - y_pred) / y_true)) * 100\n"
   ]
  },
  {
   "cell_type": "code",
   "execution_count": null,
   "metadata": {},
   "outputs": [],
   "source": []
  },
  {
   "cell_type": "markdown",
   "metadata": {},
   "source": [
    "### Why do ensemble methods work?\n",
    "\n",
    "Suppose that we have a binary classification problem and built 3 models each of which can predict the class value of an example with 0.8 accuracy. Also assume that the models are independent of each other, i.e., the prediction one model makes is independent of the predictions of the other models. \n",
    "\n",
    "Now let us assume that we have a test example whose class value is 1. The following table shows all possible predictions of the 3 models.\n",
    "\n",
    "\n",
    "|  M1 | M2  |  M3 |  Probability | Majority Prediction |\n",
    "|---|---|---|---|---|\n",
    "|  0 | 0  | 0  | 0.008  | 0|\n",
    "|  0 | 0  | 1  | 0.032  | 0|\n",
    "|  0 | 1  | 0  | 0.032  | 0|\n",
    "|  0 | 1  | 1  | 0.128  | 1|\n",
    "|  1 | 0  | 0  | 0.032  | 0|\n",
    "|  1 | 0  | 1  | 0.128  | 1|\n",
    "|  1 | 1  | 0  | 0.128  | 1|\n",
    "|  1 | 1  | 1  | 0.512  | 1|\n",
    "\n",
    "The probability that the example will be classified as 1 is:\n",
    "\n",
    "$$0.128+0.128+0.128+0.512 = 0.896$$\n",
    "\n",
    "which is higher than 0.8. Hence the ensemble of 3 models has a higher accuracy than a single model. This increase in accuracy is only possible if the base classifiers are independent which is difficult to have in practive. However, even if base classifiers are slightly correlated it is possible to see improvements in the ensemble classifiers.\n",
    "\n",
    "\n",
    "In general the classification accuracy of an ensemble of $n$ base classifiers where the classification accuracy of the base classifiers is $a$ is given by the following formula:\n",
    "\n",
    "$$\n",
    "\\sum_{i=\\lfloor{n/2} \\rfloor+1}^n {n \\choose i} a^i(1-a)^{n-i}\n",
    "$$\n",
    "\n",
    "Below is a plot which shows the accuracy of the ensemble classifiers versus the accuracy of the base classifiers.\n"
   ]
  },
  {
   "cell_type": "code",
   "execution_count": 23,
   "metadata": {},
   "outputs": [],
   "source": [
    "def nCr(n,i):\n",
    "    f = math.factorial\n",
    "    return f(n) / f(i) / f(n-i)\n",
    "\n",
    "def ensemble_acc(n, a):\n",
    "    sum = 0\n",
    "    m = int(np.floor(n/2)+1)\n",
    "    for i in range(m,n+1):\n",
    "        sum += nCr(n, i)*pow(a,i)*pow(1-a,n-i)\n",
    "    return sum\n",
    "    \n"
   ]
  },
  {
   "cell_type": "code",
   "execution_count": 26,
   "metadata": {},
   "outputs": [
    {
     "data": {
      "text/plain": [
       "Text(0, 0.5, 'Ensemble Classifier Classification Accuracy')"
      ]
     },
     "execution_count": 26,
     "metadata": {},
     "output_type": "execute_result"
    },
    {
     "data": {
      "image/png": "[encoded data removed]",
      "text/plain": [
       "<Figure size 432x288 with 1 Axes>"
      ]
     },
     "metadata": {
      "needs_background": "light"
     },
     "output_type": "display_data"
    }
   ],
   "source": [
    "x = np.arange(0,1,0.01)\n",
    "n_base_classifiers = 20\n",
    "plt.plot(x, [ensemble_acc(n_base_classifiers,i) for i in x])\n",
    "plt.xlabel('Base Classifier Classification Accuracy')\n",
    "plt.ylabel('Ensemble Classifier Classification Accuracy')"
   ]
  },
  {
   "cell_type": "markdown",
   "metadata": {},
   "source": [
    "### Random Forest Classifier"
   ]
  },
  {
   "cell_type": "code",
   "execution_count": 27,
   "metadata": {},
   "outputs": [],
   "source": [
    "class MyRandomForestClassifier:\n",
    "    \n",
    "    def __init__(self, n_estimators = 100, max_features = None, max_depth = None, bootstrap=True):\n",
    "        self.models = []\n",
    "        self.n_estimators = n_estimators\n",
    "        self.max_features = max_features\n",
    "        self.max_depth = max_depth\n",
    "        self.bootstrap = bootstrap\n",
    "    \n",
    "    def predict(self,X):\n",
    "        preds = pd.DataFrame()\n",
    "        \n",
    "        for i, (t, idx) in enumerate(self.models):\n",
    "            Xs = X.iloc[:,idx]\n",
    "            preds[i] = t.predict(Xs)\n",
    "        return preds.mode(axis=1)[0].astype(int)\n",
    "    \n",
    "    def fit(self, X, y):\n",
    "\n",
    "        n_features = np.shape(X)[1]\n",
    "        n_examples = np.shape(X)[0]\n",
    "        \n",
    "        if not self.max_features:\n",
    "            self.max_features = int(math.sqrt(n_features))\n",
    "\n",
    "        for i in range(self.n_estimators):\n",
    "            # sample with replacement (bootstrapping)\n",
    "            if self.bootstrap:\n",
    "                X1, y1 = resample(X, y, n_samples = n_examples, replace=True)\n",
    "            else:\n",
    "                X1, y1 = X, y\n",
    "                       \n",
    "            # Select a random subset of features\n",
    "            idx = np.random.choice(range(n_features), size=self.max_features, replace=False)\n",
    "            X2 = X1.iloc[:,idx]\n",
    "            \n",
    "            tree = DecisionTreeClassifier(max_depth=self.max_depth)\n",
    "            tree.fit(X2, y1)\n",
    "            \n",
    "            # Append the tree with the idx since we will use these features in predicting test samples\n",
    "            self.models.append((tree, idx))\n"
   ]
  },
  {
   "cell_type": "code",
   "execution_count": null,
   "metadata": {},
   "outputs": [],
   "source": []
  },
  {
   "cell_type": "code",
   "execution_count": 28,
   "metadata": {},
   "outputs": [
    {
     "data": {
      "text/html": [
       "<div>\n",
       "<style scoped>\n",
       "    .dataframe tbody tr th:only-of-type {\n",
       "        vertical-align: middle;\n",
       "    }\n",
       "\n",
       "    .dataframe tbody tr th {\n",
       "        vertical-align: top;\n",
       "    }\n",
       "\n",
       "    .dataframe thead th {\n",
       "        text-align: right;\n",
       "    }\n",
       "</style>\n",
       "<table border=\"1\" class=\"dataframe\">\n",
       "  <thead>\n",
       "    <tr style=\"text-align: right;\">\n",
       "      <th></th>\n",
       "      <th>age</th>\n",
       "      <th>job</th>\n",
       "      <th>marital</th>\n",
       "      <th>education</th>\n",
       "      <th>default</th>\n",
       "      <th>balance</th>\n",
       "      <th>housing</th>\n",
       "      <th>loan</th>\n",
       "      <th>contact</th>\n",
       "      <th>day</th>\n",
       "      <th>month</th>\n",
       "      <th>duration</th>\n",
       "      <th>campaign</th>\n",
       "      <th>pdays</th>\n",
       "      <th>previous</th>\n",
       "      <th>poutcome</th>\n",
       "      <th>y</th>\n",
       "    </tr>\n",
       "  </thead>\n",
       "  <tbody>\n",
       "    <tr>\n",
       "      <th>0</th>\n",
       "      <td>58</td>\n",
       "      <td>management</td>\n",
       "      <td>married</td>\n",
       "      <td>tertiary</td>\n",
       "      <td>no</td>\n",
       "      <td>2143</td>\n",
       "      <td>yes</td>\n",
       "      <td>no</td>\n",
       "      <td>unknown</td>\n",
       "      <td>5</td>\n",
       "      <td>may</td>\n",
       "      <td>261</td>\n",
       "      <td>1</td>\n",
       "      <td>-1</td>\n",
       "      <td>0</td>\n",
       "      <td>unknown</td>\n",
       "      <td>no</td>\n",
       "    </tr>\n",
       "    <tr>\n",
       "      <th>1</th>\n",
       "      <td>44</td>\n",
       "      <td>technician</td>\n",
       "      <td>single</td>\n",
       "      <td>secondary</td>\n",
       "      <td>no</td>\n",
       "      <td>29</td>\n",
       "      <td>yes</td>\n",
       "      <td>no</td>\n",
       "      <td>unknown</td>\n",
       "      <td>5</td>\n",
       "      <td>may</td>\n",
       "      <td>151</td>\n",
       "      <td>1</td>\n",
       "      <td>-1</td>\n",
       "      <td>0</td>\n",
       "      <td>unknown</td>\n",
       "      <td>no</td>\n",
       "    </tr>\n",
       "    <tr>\n",
       "      <th>2</th>\n",
       "      <td>33</td>\n",
       "      <td>entrepreneur</td>\n",
       "      <td>married</td>\n",
       "      <td>secondary</td>\n",
       "      <td>no</td>\n",
       "      <td>2</td>\n",
       "      <td>yes</td>\n",
       "      <td>yes</td>\n",
       "      <td>unknown</td>\n",
       "      <td>5</td>\n",
       "      <td>may</td>\n",
       "      <td>76</td>\n",
       "      <td>1</td>\n",
       "      <td>-1</td>\n",
       "      <td>0</td>\n",
       "      <td>unknown</td>\n",
       "      <td>no</td>\n",
       "    </tr>\n",
       "    <tr>\n",
       "      <th>3</th>\n",
       "      <td>47</td>\n",
       "      <td>blue-collar</td>\n",
       "      <td>married</td>\n",
       "      <td>unknown</td>\n",
       "      <td>no</td>\n",
       "      <td>1506</td>\n",
       "      <td>yes</td>\n",
       "      <td>no</td>\n",
       "      <td>unknown</td>\n",
       "      <td>5</td>\n",
       "      <td>may</td>\n",
       "      <td>92</td>\n",
       "      <td>1</td>\n",
       "      <td>-1</td>\n",
       "      <td>0</td>\n",
       "      <td>unknown</td>\n",
       "      <td>no</td>\n",
       "    </tr>\n",
       "    <tr>\n",
       "      <th>4</th>\n",
       "      <td>33</td>\n",
       "      <td>unknown</td>\n",
       "      <td>single</td>\n",
       "      <td>unknown</td>\n",
       "      <td>no</td>\n",
       "      <td>1</td>\n",
       "      <td>no</td>\n",
       "      <td>no</td>\n",
       "      <td>unknown</td>\n",
       "      <td>5</td>\n",
       "      <td>may</td>\n",
       "      <td>198</td>\n",
       "      <td>1</td>\n",
       "      <td>-1</td>\n",
       "      <td>0</td>\n",
       "      <td>unknown</td>\n",
       "      <td>no</td>\n",
       "    </tr>\n",
       "  </tbody>\n",
       "</table>\n",
       "</div>"
      ],
      "text/plain": [
       "   age           job  marital  education default  balance housing loan  \\\n",
       "0   58    management  married   tertiary      no     2143     yes   no   \n",
       "1   44    technician   single  secondary      no       29     yes   no   \n",
       "2   33  entrepreneur  married  secondary      no        2     yes  yes   \n",
       "3   47   blue-collar  married    unknown      no     1506     yes   no   \n",
       "4   33       unknown   single    unknown      no        1      no   no   \n",
       "\n",
       "   contact  day month  duration  campaign  pdays  previous poutcome   y  \n",
       "0  unknown    5   may       261         1     -1         0  unknown  no  \n",
       "1  unknown    5   may       151         1     -1         0  unknown  no  \n",
       "2  unknown    5   may        76         1     -1         0  unknown  no  \n",
       "3  unknown    5   may        92         1     -1         0  unknown  no  \n",
       "4  unknown    5   may       198         1     -1         0  unknown  no  "
      ]
     },
     "execution_count": 28,
     "metadata": {},
     "output_type": "execute_result"
    }
   ],
   "source": [
    "# Bank Marketing Dataset from\n",
    "# https://archive.ics.uci.edu/ml/datasets/Bank+Marketing\n",
    "\n",
    "bank = pd.read_csv(\"../datasets/bank/bank-full.csv\", delimiter = \";\")\n",
    "# print first 5 examples\n",
    "bank.head(5)"
   ]
  },
  {
   "cell_type": "code",
   "execution_count": 29,
   "metadata": {},
   "outputs": [
    {
     "data": {
      "text/plain": [
       "(45211, 17)"
      ]
     },
     "execution_count": 29,
     "metadata": {},
     "output_type": "execute_result"
    }
   ],
   "source": [
    "bank.shape"
   ]
  },
  {
   "cell_type": "code",
   "execution_count": 30,
   "metadata": {},
   "outputs": [
    {
     "data": {
      "text/plain": [
       "no     39922\n",
       "yes     5289\n",
       "Name: y, dtype: int64"
      ]
     },
     "execution_count": 30,
     "metadata": {},
     "output_type": "execute_result"
    }
   ],
   "source": [
    "bank.y.value_counts()"
   ]
  },
  {
   "cell_type": "code",
   "execution_count": 31,
   "metadata": {},
   "outputs": [
    {
     "data": {
      "text/plain": [
       "no     5289\n",
       "yes    5289\n",
       "Name: y, dtype: int64"
      ]
     },
     "execution_count": 31,
     "metadata": {},
     "output_type": "execute_result"
    }
   ],
   "source": [
    "bank_majority = bank[bank.y==\"no\"]\n",
    "bank_minority = bank[bank.y==\"yes\"]\n",
    " \n",
    "# downsample\n",
    "bank_majority_downsampled = resample(bank_majority, \n",
    "                                 replace=False,    \n",
    "                                 n_samples=5289) \n",
    " \n",
    "bank_balanced = pd.concat([bank_minority, bank_majority_downsampled])\n",
    "bank_balanced.y.value_counts()"
   ]
  },
  {
   "cell_type": "markdown",
   "metadata": {},
   "source": [
    "### Random Forest Experiment\n",
    "\n",
    "Random sampling of features and bootstrapping are the two major sources of variation. In order to see the effects of both try setting bootstrap = False or max_features = np.shape(X)[1]"
   ]
  },
  {
   "cell_type": "code",
   "execution_count": 33,
   "metadata": {},
   "outputs": [
    {
     "name": "stdout",
     "output_type": "stream",
     "text": [
      "              precision    recall  f1-score   support\n",
      "\n",
      "           0       0.76      0.80      0.78       515\n",
      "           1       0.80      0.76      0.78       543\n",
      "\n",
      "    accuracy                           0.78      1058\n",
      "   macro avg       0.78      0.78      0.78      1058\n",
      "weighted avg       0.78      0.78      0.78      1058\n",
      "\n",
      "              precision    recall  f1-score   support\n",
      "\n",
      "           0       0.88      0.81      0.85       515\n",
      "           1       0.84      0.90      0.86       543\n",
      "\n",
      "    accuracy                           0.86      1058\n",
      "   macro avg       0.86      0.85      0.85      1058\n",
      "weighted avg       0.86      0.86      0.86      1058\n",
      "\n",
      "              precision    recall  f1-score   support\n",
      "\n",
      "           0       0.87      0.84      0.86       515\n",
      "           1       0.85      0.88      0.87       543\n",
      "\n",
      "    accuracy                           0.86      1058\n",
      "   macro avg       0.86      0.86      0.86      1058\n",
      "weighted avg       0.86      0.86      0.86      1058\n",
      "\n"
     ]
    }
   ],
   "source": [
    "X = bank_balanced.loc[:,'age':'poutcome']\n",
    "y = bank_balanced.loc[:,'y']\n",
    "\n",
    "y = y.replace([\"yes\",\"no\"],[1,0])\n",
    "X = pd.get_dummies(X)\n",
    "X_train, X_test, y_train, y_test = train_test_split(X, y, test_size=0.1)\n",
    "X_train = X_train.fillna(X_train.mean())\n",
    "X_test = X_test.fillna(X_test.mean())\n",
    " \n",
    "clf1 = DecisionTreeClassifier()\n",
    "clf2 = RandomForestClassifier(n_estimators=100, bootstrap=True)\n",
    "clf3 = MyRandomForestClassifier(n_estimators=100, max_features=30, bootstrap=True)\n",
    "\n",
    "clf1.fit(X_train, y_train);\n",
    "clf2.fit(X_train, y_train);\n",
    "clf3.fit(X_train, y_train);\n",
    "\n",
    "y_pred1 = clf1.predict(X_test)  \n",
    "y_pred2 = clf2.predict(X_test) \n",
    "y_pred3 = clf3.predict(X_test) \n",
    "print(classification_report(y_test,y_pred1))\n",
    "print(classification_report(y_test,y_pred2))\n",
    "print(classification_report(y_test,y_pred3))"
   ]
  },
  {
   "cell_type": "markdown",
   "metadata": {},
   "source": [
    "### Random Forest Regressor"
   ]
  },
  {
   "cell_type": "code",
   "execution_count": 34,
   "metadata": {},
   "outputs": [],
   "source": [
    "class MyRandomForestRegressor:\n",
    "    \n",
    "    def __init__(self, n_estimators = 100, max_features = None, max_depth = None, bootstrap=True):\n",
    "        self.models = []\n",
    "        self.n_estimators = n_estimators\n",
    "        self.max_features = max_features\n",
    "        self.max_depth = max_depth\n",
    "        self.bootstrap = bootstrap\n",
    "    \n",
    "    def predict(self,X):\n",
    "        preds = 0\n",
    "        for i, (t, idx) in enumerate(self.models):\n",
    "            Xs = X.iloc[:,idx]\n",
    "            preds += t.predict(Xs)\n",
    "        return preds / len(self.models)\n",
    "    \n",
    "    def fit(self, X, y):\n",
    "\n",
    "        n_features = np.shape(X)[1]\n",
    "        n_examples = np.shape(X)[0]\n",
    "        \n",
    "\n",
    "        if not self.max_features:\n",
    "            self.max_features = int(math.sqrt(n_features))\n",
    "\n",
    "        for i in range(self.n_estimators):\n",
    "            # sample with replacement (bootstrapping)\n",
    "            if self.bootstrap:\n",
    "                X1, y1 = resample(X, y, n_samples = n_examples, replace=True)\n",
    "            else:\n",
    "                X1, y1 = X, y\n",
    "                       \n",
    "            # Select a random subset of features\n",
    "            idx = np.random.choice(range(n_features), size=self.max_features, replace=False)\n",
    "            X2 = X1.iloc[:,idx]\n",
    "            \n",
    "            tree = DecisionTreeRegressor(max_depth=self.max_depth)\n",
    "            tree.fit(X2, y1)\n",
    "            \n",
    "            # Append the tree with the idx since we will use these features in predicting test samples\n",
    "            self.models.append((tree, idx))\n"
   ]
  },
  {
   "cell_type": "code",
   "execution_count": 35,
   "metadata": {},
   "outputs": [],
   "source": [
    "house_train = pd.read_csv(\"../datasets/house_prices/train.csv\")"
   ]
  },
  {
   "cell_type": "code",
   "execution_count": 36,
   "metadata": {},
   "outputs": [
    {
     "name": "stdout",
     "output_type": "stream",
     "text": [
      "14.213148520881969\n",
      "9.248054526602708\n",
      "9.620404770256794\n"
     ]
    }
   ],
   "source": [
    "from sklearn.metrics import mean_absolute_error\n",
    "X = house_train.loc[:,'MSSubClass':'SaleCondition']\n",
    "y = house_train.loc[:,'SalePrice']\n",
    "X = pd.get_dummies(X)\n",
    "X_train, X_test, y_train, y_test = train_test_split(X, y, test_size=0.1)\n",
    "X_train = X_train.fillna(X_train.mean())\n",
    "X_test = X_test.fillna(X_test.mean())\n",
    "\n",
    "reg1 = DecisionTreeRegressor()\n",
    "reg2 = RandomForestRegressor(n_estimators=100,max_features=70)\n",
    "reg3 = MyRandomForestRegressor(n_estimators=100,max_features=70)\n",
    "\n",
    "reg1.fit(X_train, y_train)\n",
    "reg2.fit(X_train, y_train)\n",
    "reg3.fit(X_train, y_train)\n",
    "\n",
    "print(mean_absolute_percentage_error(y_test, reg1.predict(X_test)))\n",
    "print(mean_absolute_percentage_error(y_test, reg2.predict(X_test)))\n",
    "print(mean_absolute_percentage_error(y_test, reg3.predict(X_test)))"
   ]
  },
  {
   "cell_type": "code",
   "execution_count": 37,
   "metadata": {},
   "outputs": [
    {
     "name": "stdout",
     "output_type": "stream",
     "text": [
      "24354.369863013697\n",
      "15214.163082191779\n",
      "15324.86835706143\n"
     ]
    }
   ],
   "source": [
    "print(mean_absolute_error(y_test, reg1.predict(X_test)))\n",
    "print(mean_absolute_error(y_test, reg2.predict(X_test)))\n",
    "print(mean_absolute_error(y_test, reg3.predict(X_test)))"
   ]
  },
  {
   "cell_type": "code",
   "execution_count": 38,
   "metadata": {},
   "outputs": [],
   "source": [
    "from sklearn.metrics import mean_squared_log_error\n",
    "\n",
    "def kaggle_score(y_true,y_pred):\n",
    "    return np.sqrt(mean_squared_log_error(y_true, y_pred));"
   ]
  },
  {
   "cell_type": "code",
   "execution_count": 39,
   "metadata": {},
   "outputs": [
    {
     "name": "stdout",
     "output_type": "stream",
     "text": [
      "0.19983654924456312\n",
      "0.12334304428214837\n",
      "0.1297836936127775\n"
     ]
    }
   ],
   "source": [
    "print(kaggle_score(y_test, reg1.predict(X_test)))\n",
    "print(kaggle_score(y_test, reg2.predict(X_test)))\n",
    "print(kaggle_score(y_test, reg3.predict(X_test)))"
   ]
  },
  {
   "cell_type": "code",
   "execution_count": null,
   "metadata": {},
   "outputs": [],
   "source": []
  }
 ],
 "metadata": {
  "kernelspec": {
   "display_name": "Python 3",
   "language": "python",
   "name": "python3"
  },
  "language_info": {
   "codemirror_mode": {
    "name": "ipython",
    "version": 3
   },
   "file_extension": ".py",
   "mimetype": "text/x-python",
   "name": "python",
   "nbconvert_exporter": "python",
   "pygments_lexer": "ipython3",
   "version": "3.7.7"
  }
 },
 "nbformat": 4,
 "nbformat_minor": 2
}
